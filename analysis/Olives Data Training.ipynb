{
 "cells": [
  {
   "cell_type": "code",
   "execution_count": 154,
   "metadata": {
    "collapsed": true
   },
   "outputs": [],
   "source": [
    "import pandas as pd\n",
    "import glob\n",
    "import numpy as np\n",
    "from __future__ import division\n",
    "import seaborn as sns\n",
    "%matplotlib inline\n",
    "import matplotlib.pyplot as plt"
   ]
  },
  {
   "cell_type": "code",
   "execution_count": 16,
   "metadata": {
    "collapsed": false
   },
   "outputs": [
    {
     "data": {
      "text/plain": [
       "['training\\\\110_training_2016_Aug_16_1429.csv',\n",
       " 'training\\\\111_training_2016_Jul_08_1050.csv',\n",
       " 'training\\\\112_training_2016_Jul_15_1138.csv',\n",
       " 'training\\\\113_training_2016_Jul_15_1448.csv',\n",
       " 'training\\\\114_training_2016_Jul_15_1542.csv',\n",
       " 'training\\\\115_training_2016_Jul_21_1239.csv',\n",
       " 'training\\\\116_training_2016_Jul_21_1530.csv',\n",
       " 'training\\\\117_training_2016_Jul_27_1439.csv',\n",
       " 'training\\\\118_training_2016_Aug_04_1343.csv']"
      ]
     },
     "execution_count": 16,
     "metadata": {},
     "output_type": "execute_result"
    }
   ],
   "source": [
    "training_data = glob.glob('training/*.csv')\n",
    "training_data"
   ]
  },
  {
   "cell_type": "code",
   "execution_count": 17,
   "metadata": {
    "collapsed": false
   },
   "outputs": [
    {
     "data": {
      "text/html": [
       "<div>\n",
       "<table border=\"1\" class=\"dataframe\">\n",
       "  <thead>\n",
       "    <tr style=\"text-align: right;\">\n",
       "      <th></th>\n",
       "      <th>dot_values</th>\n",
       "      <th>colour_values</th>\n",
       "      <th>participant</th>\n",
       "      <th>.thisRepN</th>\n",
       "      <th>.thisTrialN</th>\n",
       "      <th>.thisN</th>\n",
       "      <th>.thisIndex</th>\n",
       "      <th>response</th>\n",
       "      <th>response_time</th>\n",
       "      <th>date</th>\n",
       "      <th>Unnamed: 10</th>\n",
       "    </tr>\n",
       "  </thead>\n",
       "  <tbody>\n",
       "    <tr>\n",
       "      <th>0</th>\n",
       "      <td>NaN</td>\n",
       "      <td>Yellow</td>\n",
       "      <td>110</td>\n",
       "      <td>0</td>\n",
       "      <td>0</td>\n",
       "      <td>0</td>\n",
       "      <td>0</td>\n",
       "      <td>NaN</td>\n",
       "      <td>NaN</td>\n",
       "      <td>2016_Aug_16_1429</td>\n",
       "      <td>NaN</td>\n",
       "    </tr>\n",
       "    <tr>\n",
       "      <th>1</th>\n",
       "      <td>1.0</td>\n",
       "      <td>LightPink</td>\n",
       "      <td>110</td>\n",
       "      <td>0</td>\n",
       "      <td>1</td>\n",
       "      <td>1</td>\n",
       "      <td>1</td>\n",
       "      <td>m</td>\n",
       "      <td>0.207572</td>\n",
       "      <td>2016_Aug_16_1429</td>\n",
       "      <td>NaN</td>\n",
       "    </tr>\n",
       "    <tr>\n",
       "      <th>2</th>\n",
       "      <td>8.0</td>\n",
       "      <td>Brown</td>\n",
       "      <td>110</td>\n",
       "      <td>0</td>\n",
       "      <td>2</td>\n",
       "      <td>2</td>\n",
       "      <td>2</td>\n",
       "      <td>NaN</td>\n",
       "      <td>NaN</td>\n",
       "      <td>2016_Aug_16_1429</td>\n",
       "      <td>NaN</td>\n",
       "    </tr>\n",
       "    <tr>\n",
       "      <th>3</th>\n",
       "      <td>6.0</td>\n",
       "      <td>Purple</td>\n",
       "      <td>110</td>\n",
       "      <td>0</td>\n",
       "      <td>3</td>\n",
       "      <td>3</td>\n",
       "      <td>3</td>\n",
       "      <td>m</td>\n",
       "      <td>0.055839</td>\n",
       "      <td>2016_Aug_16_1429</td>\n",
       "      <td>NaN</td>\n",
       "    </tr>\n",
       "    <tr>\n",
       "      <th>4</th>\n",
       "      <td>5.0</td>\n",
       "      <td>Orange</td>\n",
       "      <td>110</td>\n",
       "      <td>0</td>\n",
       "      <td>4</td>\n",
       "      <td>4</td>\n",
       "      <td>4</td>\n",
       "      <td>m</td>\n",
       "      <td>0.015771</td>\n",
       "      <td>2016_Aug_16_1429</td>\n",
       "      <td>NaN</td>\n",
       "    </tr>\n",
       "  </tbody>\n",
       "</table>\n",
       "</div>"
      ],
      "text/plain": [
       "   dot_values colour_values  participant  .thisRepN  .thisTrialN  .thisN  \\\n",
       "0         NaN        Yellow          110          0            0       0   \n",
       "1         1.0     LightPink          110          0            1       1   \n",
       "2         8.0         Brown          110          0            2       2   \n",
       "3         6.0        Purple          110          0            3       3   \n",
       "4         5.0        Orange          110          0            4       4   \n",
       "\n",
       "   .thisIndex response  response_time              date  Unnamed: 10  \n",
       "0           0      NaN            NaN  2016_Aug_16_1429          NaN  \n",
       "1           1        m       0.207572  2016_Aug_16_1429          NaN  \n",
       "2           2      NaN            NaN  2016_Aug_16_1429          NaN  \n",
       "3           3        m       0.055839  2016_Aug_16_1429          NaN  \n",
       "4           4        m       0.015771  2016_Aug_16_1429          NaN  "
      ]
     },
     "execution_count": 17,
     "metadata": {},
     "output_type": "execute_result"
    }
   ],
   "source": [
    "df = pd.read_csv(training_data[0])\n",
    "df.head()"
   ]
  },
  {
   "cell_type": "code",
   "execution_count": 18,
   "metadata": {
    "collapsed": false
   },
   "outputs": [],
   "source": [
    "df['correct_response'] = df[['dot_values', 'colour_values']].isnull().all(axis=1)\n",
    "df['correct_response'] = df['correct_response'].replace({False: 'm', True:'z'})"
   ]
  },
  {
   "cell_type": "code",
   "execution_count": 19,
   "metadata": {
    "collapsed": false
   },
   "outputs": [
    {
     "data": {
      "text/html": [
       "<div>\n",
       "<table border=\"1\" class=\"dataframe\">\n",
       "  <thead>\n",
       "    <tr style=\"text-align: right;\">\n",
       "      <th></th>\n",
       "      <th>dot_values</th>\n",
       "      <th>colour_values</th>\n",
       "      <th>participant</th>\n",
       "      <th>.thisRepN</th>\n",
       "      <th>.thisTrialN</th>\n",
       "      <th>.thisN</th>\n",
       "      <th>.thisIndex</th>\n",
       "      <th>response</th>\n",
       "      <th>response_time</th>\n",
       "      <th>date</th>\n",
       "      <th>Unnamed: 10</th>\n",
       "      <th>correct_response</th>\n",
       "    </tr>\n",
       "  </thead>\n",
       "  <tbody>\n",
       "    <tr>\n",
       "      <th>0</th>\n",
       "      <td>NaN</td>\n",
       "      <td>Yellow</td>\n",
       "      <td>110</td>\n",
       "      <td>0</td>\n",
       "      <td>0</td>\n",
       "      <td>0</td>\n",
       "      <td>0</td>\n",
       "      <td>NaN</td>\n",
       "      <td>NaN</td>\n",
       "      <td>2016_Aug_16_1429</td>\n",
       "      <td>NaN</td>\n",
       "      <td>m</td>\n",
       "    </tr>\n",
       "    <tr>\n",
       "      <th>1</th>\n",
       "      <td>1.0</td>\n",
       "      <td>LightPink</td>\n",
       "      <td>110</td>\n",
       "      <td>0</td>\n",
       "      <td>1</td>\n",
       "      <td>1</td>\n",
       "      <td>1</td>\n",
       "      <td>m</td>\n",
       "      <td>0.207572</td>\n",
       "      <td>2016_Aug_16_1429</td>\n",
       "      <td>NaN</td>\n",
       "      <td>m</td>\n",
       "    </tr>\n",
       "    <tr>\n",
       "      <th>2</th>\n",
       "      <td>8.0</td>\n",
       "      <td>Brown</td>\n",
       "      <td>110</td>\n",
       "      <td>0</td>\n",
       "      <td>2</td>\n",
       "      <td>2</td>\n",
       "      <td>2</td>\n",
       "      <td>NaN</td>\n",
       "      <td>NaN</td>\n",
       "      <td>2016_Aug_16_1429</td>\n",
       "      <td>NaN</td>\n",
       "      <td>m</td>\n",
       "    </tr>\n",
       "    <tr>\n",
       "      <th>3</th>\n",
       "      <td>6.0</td>\n",
       "      <td>Purple</td>\n",
       "      <td>110</td>\n",
       "      <td>0</td>\n",
       "      <td>3</td>\n",
       "      <td>3</td>\n",
       "      <td>3</td>\n",
       "      <td>m</td>\n",
       "      <td>0.055839</td>\n",
       "      <td>2016_Aug_16_1429</td>\n",
       "      <td>NaN</td>\n",
       "      <td>m</td>\n",
       "    </tr>\n",
       "    <tr>\n",
       "      <th>4</th>\n",
       "      <td>5.0</td>\n",
       "      <td>Orange</td>\n",
       "      <td>110</td>\n",
       "      <td>0</td>\n",
       "      <td>4</td>\n",
       "      <td>4</td>\n",
       "      <td>4</td>\n",
       "      <td>m</td>\n",
       "      <td>0.015771</td>\n",
       "      <td>2016_Aug_16_1429</td>\n",
       "      <td>NaN</td>\n",
       "      <td>m</td>\n",
       "    </tr>\n",
       "  </tbody>\n",
       "</table>\n",
       "</div>"
      ],
      "text/plain": [
       "   dot_values colour_values  participant  .thisRepN  .thisTrialN  .thisN  \\\n",
       "0         NaN        Yellow          110          0            0       0   \n",
       "1         1.0     LightPink          110          0            1       1   \n",
       "2         8.0         Brown          110          0            2       2   \n",
       "3         6.0        Purple          110          0            3       3   \n",
       "4         5.0        Orange          110          0            4       4   \n",
       "\n",
       "   .thisIndex response  response_time              date  Unnamed: 10  \\\n",
       "0           0      NaN            NaN  2016_Aug_16_1429          NaN   \n",
       "1           1        m       0.207572  2016_Aug_16_1429          NaN   \n",
       "2           2      NaN            NaN  2016_Aug_16_1429          NaN   \n",
       "3           3        m       0.055839  2016_Aug_16_1429          NaN   \n",
       "4           4        m       0.015771  2016_Aug_16_1429          NaN   \n",
       "\n",
       "  correct_response  \n",
       "0                m  \n",
       "1                m  \n",
       "2                m  \n",
       "3                m  \n",
       "4                m  "
      ]
     },
     "execution_count": 19,
     "metadata": {},
     "output_type": "execute_result"
    }
   ],
   "source": [
    "df.head()"
   ]
  },
  {
   "cell_type": "code",
   "execution_count": 22,
   "metadata": {
    "collapsed": false
   },
   "outputs": [
    {
     "data": {
      "text/plain": [
       "0    False\n",
       "1     True\n",
       "2    False\n",
       "3     True\n",
       "4     True\n",
       "dtype: bool"
      ]
     },
     "execution_count": 22,
     "metadata": {},
     "output_type": "execute_result"
    }
   ],
   "source": [
    "answered_correctly = df['response'] == df['correct_response']\n",
    "answered_correctly.head()"
   ]
  },
  {
   "cell_type": "code",
   "execution_count": 23,
   "metadata": {
    "collapsed": false
   },
   "outputs": [
    {
     "data": {
      "text/plain": [
       "375"
      ]
     },
     "execution_count": 23,
     "metadata": {},
     "output_type": "execute_result"
    }
   ],
   "source": [
    "num_corr = np.sum(answered_correctly)\n",
    "num_corr"
   ]
  },
  {
   "cell_type": "code",
   "execution_count": 24,
   "metadata": {
    "collapsed": false
   },
   "outputs": [
    {
     "data": {
      "text/plain": [
       "58"
      ]
     },
     "execution_count": 24,
     "metadata": {},
     "output_type": "execute_result"
    }
   ],
   "source": [
    "num_mistakes = len(df) - num_corr\n",
    "num_mistakes"
   ]
  },
  {
   "cell_type": "code",
   "execution_count": 25,
   "metadata": {
    "collapsed": false
   },
   "outputs": [
    {
     "data": {
      "text/plain": [
       "0.86605080831408776"
      ]
     },
     "execution_count": 25,
     "metadata": {},
     "output_type": "execute_result"
    }
   ],
   "source": [
    "accuracy = num_corr / len(df)\n",
    "accuracy"
   ]
  },
  {
   "cell_type": "code",
   "execution_count": 26,
   "metadata": {
    "collapsed": false
   },
   "outputs": [
    {
     "data": {
      "text/plain": [
       "1    0.207572\n",
       "3    0.055839\n",
       "4    0.015771\n",
       "5    0.360040\n",
       "6    0.263624\n",
       "Name: response_time, dtype: float64"
      ]
     },
     "execution_count": 26,
     "metadata": {},
     "output_type": "execute_result"
    }
   ],
   "source": [
    "# Reaction time when response is correct\n",
    "react_time = df[\"response_time\"].loc[answered_correctly]\n",
    "react_time.head()"
   ]
  },
  {
   "cell_type": "code",
   "execution_count": 27,
   "metadata": {
    "collapsed": false
   },
   "outputs": [
    {
     "data": {
      "text/plain": [
       "0.23162321980794362"
      ]
     },
     "execution_count": 27,
     "metadata": {},
     "output_type": "execute_result"
    }
   ],
   "source": [
    "react_time.mean()"
   ]
  },
  {
   "cell_type": "code",
   "execution_count": 78,
   "metadata": {
    "collapsed": false
   },
   "outputs": [],
   "source": [
    "combined_df = pd.DataFrame()\n",
    "df_list = []\n",
    "\n",
    "needed_cols = ['dot_values', 'colour_values', 'participant', 'response', 'response_time', 'date', 'correct_response',\n",
    "              'answered_correctly']\n",
    "\n",
    "for i in training_data:\n",
    "    df = pd.read_csv(i)\n",
    "    df['correct_response'] = df[['dot_values', 'colour_values']].isnull().all(axis=1)\n",
    "    df['correct_response'] = df['correct_response'].replace({False: 'm', True:'z'})\n",
    "    df['answered_correctly'] = df['response'] == df['correct_response']\n",
    "    df['answered_correctly'] = df['answered_correctly'].astype(int)\n",
    "    \n",
    "    df = df[needed_cols]\n",
    "    \n",
    "    df_list.append(df)\n",
    "    \n",
    "combined_df = pd.concat(df_list)\n",
    "combined_df.to_csv(\"combined_training_data.csv\", index=False)"
   ]
  },
  {
   "cell_type": "code",
   "execution_count": 79,
   "metadata": {
    "collapsed": false
   },
   "outputs": [
    {
     "data": {
      "text/html": [
       "<div>\n",
       "<table border=\"1\" class=\"dataframe\">\n",
       "  <thead>\n",
       "    <tr style=\"text-align: right;\">\n",
       "      <th></th>\n",
       "      <th>dot_values</th>\n",
       "      <th>colour_values</th>\n",
       "      <th>participant</th>\n",
       "      <th>response</th>\n",
       "      <th>response_time</th>\n",
       "      <th>date</th>\n",
       "      <th>correct_response</th>\n",
       "      <th>answered_correctly</th>\n",
       "    </tr>\n",
       "  </thead>\n",
       "  <tbody>\n",
       "    <tr>\n",
       "      <th>0</th>\n",
       "      <td>NaN</td>\n",
       "      <td>Yellow</td>\n",
       "      <td>110</td>\n",
       "      <td>NaN</td>\n",
       "      <td>NaN</td>\n",
       "      <td>2016_Aug_16_1429</td>\n",
       "      <td>m</td>\n",
       "      <td>0</td>\n",
       "    </tr>\n",
       "    <tr>\n",
       "      <th>1</th>\n",
       "      <td>1.0</td>\n",
       "      <td>LightPink</td>\n",
       "      <td>110</td>\n",
       "      <td>m</td>\n",
       "      <td>0.207572</td>\n",
       "      <td>2016_Aug_16_1429</td>\n",
       "      <td>m</td>\n",
       "      <td>1</td>\n",
       "    </tr>\n",
       "    <tr>\n",
       "      <th>2</th>\n",
       "      <td>8.0</td>\n",
       "      <td>Brown</td>\n",
       "      <td>110</td>\n",
       "      <td>NaN</td>\n",
       "      <td>NaN</td>\n",
       "      <td>2016_Aug_16_1429</td>\n",
       "      <td>m</td>\n",
       "      <td>0</td>\n",
       "    </tr>\n",
       "    <tr>\n",
       "      <th>3</th>\n",
       "      <td>6.0</td>\n",
       "      <td>Purple</td>\n",
       "      <td>110</td>\n",
       "      <td>m</td>\n",
       "      <td>0.055839</td>\n",
       "      <td>2016_Aug_16_1429</td>\n",
       "      <td>m</td>\n",
       "      <td>1</td>\n",
       "    </tr>\n",
       "    <tr>\n",
       "      <th>4</th>\n",
       "      <td>5.0</td>\n",
       "      <td>Orange</td>\n",
       "      <td>110</td>\n",
       "      <td>m</td>\n",
       "      <td>0.015771</td>\n",
       "      <td>2016_Aug_16_1429</td>\n",
       "      <td>m</td>\n",
       "      <td>1</td>\n",
       "    </tr>\n",
       "    <tr>\n",
       "      <th>5</th>\n",
       "      <td>7.0</td>\n",
       "      <td>DarkGray</td>\n",
       "      <td>110</td>\n",
       "      <td>m</td>\n",
       "      <td>0.360040</td>\n",
       "      <td>2016_Aug_16_1429</td>\n",
       "      <td>m</td>\n",
       "      <td>1</td>\n",
       "    </tr>\n",
       "    <tr>\n",
       "      <th>6</th>\n",
       "      <td>3.0</td>\n",
       "      <td>Blue</td>\n",
       "      <td>110</td>\n",
       "      <td>m</td>\n",
       "      <td>0.263624</td>\n",
       "      <td>2016_Aug_16_1429</td>\n",
       "      <td>m</td>\n",
       "      <td>1</td>\n",
       "    </tr>\n",
       "    <tr>\n",
       "      <th>7</th>\n",
       "      <td>9.0</td>\n",
       "      <td>Red</td>\n",
       "      <td>110</td>\n",
       "      <td>m</td>\n",
       "      <td>0.239785</td>\n",
       "      <td>2016_Aug_16_1429</td>\n",
       "      <td>m</td>\n",
       "      <td>1</td>\n",
       "    </tr>\n",
       "    <tr>\n",
       "      <th>8</th>\n",
       "      <td>2.0</td>\n",
       "      <td>Green</td>\n",
       "      <td>110</td>\n",
       "      <td>m</td>\n",
       "      <td>0.047875</td>\n",
       "      <td>2016_Aug_16_1429</td>\n",
       "      <td>m</td>\n",
       "      <td>1</td>\n",
       "    </tr>\n",
       "    <tr>\n",
       "      <th>9</th>\n",
       "      <td>4.0</td>\n",
       "      <td>Purple</td>\n",
       "      <td>110</td>\n",
       "      <td>m</td>\n",
       "      <td>0.271757</td>\n",
       "      <td>2016_Aug_16_1429</td>\n",
       "      <td>m</td>\n",
       "      <td>1</td>\n",
       "    </tr>\n",
       "  </tbody>\n",
       "</table>\n",
       "</div>"
      ],
      "text/plain": [
       "   dot_values colour_values  participant response  response_time  \\\n",
       "0         NaN        Yellow          110      NaN            NaN   \n",
       "1         1.0     LightPink          110        m       0.207572   \n",
       "2         8.0         Brown          110      NaN            NaN   \n",
       "3         6.0        Purple          110        m       0.055839   \n",
       "4         5.0        Orange          110        m       0.015771   \n",
       "5         7.0      DarkGray          110        m       0.360040   \n",
       "6         3.0          Blue          110        m       0.263624   \n",
       "7         9.0           Red          110        m       0.239785   \n",
       "8         2.0         Green          110        m       0.047875   \n",
       "9         4.0        Purple          110        m       0.271757   \n",
       "\n",
       "               date correct_response  answered_correctly  \n",
       "0  2016_Aug_16_1429                m                   0  \n",
       "1  2016_Aug_16_1429                m                   1  \n",
       "2  2016_Aug_16_1429                m                   0  \n",
       "3  2016_Aug_16_1429                m                   1  \n",
       "4  2016_Aug_16_1429                m                   1  \n",
       "5  2016_Aug_16_1429                m                   1  \n",
       "6  2016_Aug_16_1429                m                   1  \n",
       "7  2016_Aug_16_1429                m                   1  \n",
       "8  2016_Aug_16_1429                m                   1  \n",
       "9  2016_Aug_16_1429                m                   1  "
      ]
     },
     "execution_count": 79,
     "metadata": {},
     "output_type": "execute_result"
    }
   ],
   "source": [
    "combined_df.head(10)"
   ]
  },
  {
   "cell_type": "code",
   "execution_count": 147,
   "metadata": {
    "collapsed": false
   },
   "outputs": [],
   "source": [
    "# Group by participants and get number of correct responses, number of mistakes, and total accuracy\n",
    "grouped_df = combined_df.groupby('participant')\n",
    "\n",
    "df = grouped_df.sum()\n",
    "df['num_mistakes'] = grouped_df.size() - df['answered_correctly']\n",
    "df = df.rename(columns={'answered_correctly': 'num_corr'})\n",
    "df = df.reset_index(level=0)\n",
    "df = df.drop(['dot_values', 'response_time'], axis=1)\n",
    "df['accuracy'] = df['num_corr'] / (df['num_corr'] + df['num_mistakes']) "
   ]
  },
  {
   "cell_type": "code",
   "execution_count": 148,
   "metadata": {
    "collapsed": false
   },
   "outputs": [
    {
     "data": {
      "text/html": [
       "<div>\n",
       "<table border=\"1\" class=\"dataframe\">\n",
       "  <thead>\n",
       "    <tr style=\"text-align: right;\">\n",
       "      <th></th>\n",
       "      <th>participant</th>\n",
       "      <th>num_corr</th>\n",
       "      <th>num_mistakes</th>\n",
       "      <th>accuracy</th>\n",
       "    </tr>\n",
       "  </thead>\n",
       "  <tbody>\n",
       "    <tr>\n",
       "      <th>0</th>\n",
       "      <td>110</td>\n",
       "      <td>375</td>\n",
       "      <td>58</td>\n",
       "      <td>0.866051</td>\n",
       "    </tr>\n",
       "    <tr>\n",
       "      <th>1</th>\n",
       "      <td>111</td>\n",
       "      <td>395</td>\n",
       "      <td>52</td>\n",
       "      <td>0.883669</td>\n",
       "    </tr>\n",
       "    <tr>\n",
       "      <th>2</th>\n",
       "      <td>112</td>\n",
       "      <td>420</td>\n",
       "      <td>29</td>\n",
       "      <td>0.935412</td>\n",
       "    </tr>\n",
       "    <tr>\n",
       "      <th>3</th>\n",
       "      <td>113</td>\n",
       "      <td>393</td>\n",
       "      <td>63</td>\n",
       "      <td>0.861842</td>\n",
       "    </tr>\n",
       "    <tr>\n",
       "      <th>4</th>\n",
       "      <td>114</td>\n",
       "      <td>394</td>\n",
       "      <td>58</td>\n",
       "      <td>0.871681</td>\n",
       "    </tr>\n",
       "    <tr>\n",
       "      <th>5</th>\n",
       "      <td>115</td>\n",
       "      <td>415</td>\n",
       "      <td>35</td>\n",
       "      <td>0.922222</td>\n",
       "    </tr>\n",
       "    <tr>\n",
       "      <th>6</th>\n",
       "      <td>116</td>\n",
       "      <td>426</td>\n",
       "      <td>17</td>\n",
       "      <td>0.961625</td>\n",
       "    </tr>\n",
       "    <tr>\n",
       "      <th>7</th>\n",
       "      <td>117</td>\n",
       "      <td>443</td>\n",
       "      <td>19</td>\n",
       "      <td>0.958874</td>\n",
       "    </tr>\n",
       "    <tr>\n",
       "      <th>8</th>\n",
       "      <td>118</td>\n",
       "      <td>101</td>\n",
       "      <td>346</td>\n",
       "      <td>0.225951</td>\n",
       "    </tr>\n",
       "  </tbody>\n",
       "</table>\n",
       "</div>"
      ],
      "text/plain": [
       "   participant  num_corr  num_mistakes  accuracy\n",
       "0          110       375            58  0.866051\n",
       "1          111       395            52  0.883669\n",
       "2          112       420            29  0.935412\n",
       "3          113       393            63  0.861842\n",
       "4          114       394            58  0.871681\n",
       "5          115       415            35  0.922222\n",
       "6          116       426            17  0.961625\n",
       "7          117       443            19  0.958874\n",
       "8          118       101           346  0.225951"
      ]
     },
     "execution_count": 148,
     "metadata": {},
     "output_type": "execute_result"
    }
   ],
   "source": [
    "df.head(10)"
   ]
  },
  {
   "cell_type": "code",
   "execution_count": 149,
   "metadata": {
    "collapsed": false
   },
   "outputs": [
    {
     "data": {
      "text/html": [
       "<div>\n",
       "<table border=\"1\" class=\"dataframe\">\n",
       "  <thead>\n",
       "    <tr style=\"text-align: right;\">\n",
       "      <th></th>\n",
       "      <th>dot_values</th>\n",
       "      <th>colour_values</th>\n",
       "      <th>participant</th>\n",
       "      <th>response</th>\n",
       "      <th>response_time</th>\n",
       "      <th>date</th>\n",
       "      <th>correct_response</th>\n",
       "      <th>answered_correctly</th>\n",
       "    </tr>\n",
       "  </thead>\n",
       "  <tbody>\n",
       "    <tr>\n",
       "      <th>1</th>\n",
       "      <td>1.0</td>\n",
       "      <td>LightPink</td>\n",
       "      <td>110</td>\n",
       "      <td>m</td>\n",
       "      <td>0.207572</td>\n",
       "      <td>2016_Aug_16_1429</td>\n",
       "      <td>m</td>\n",
       "      <td>1</td>\n",
       "    </tr>\n",
       "    <tr>\n",
       "      <th>3</th>\n",
       "      <td>6.0</td>\n",
       "      <td>Purple</td>\n",
       "      <td>110</td>\n",
       "      <td>m</td>\n",
       "      <td>0.055839</td>\n",
       "      <td>2016_Aug_16_1429</td>\n",
       "      <td>m</td>\n",
       "      <td>1</td>\n",
       "    </tr>\n",
       "    <tr>\n",
       "      <th>4</th>\n",
       "      <td>5.0</td>\n",
       "      <td>Orange</td>\n",
       "      <td>110</td>\n",
       "      <td>m</td>\n",
       "      <td>0.015771</td>\n",
       "      <td>2016_Aug_16_1429</td>\n",
       "      <td>m</td>\n",
       "      <td>1</td>\n",
       "    </tr>\n",
       "    <tr>\n",
       "      <th>5</th>\n",
       "      <td>7.0</td>\n",
       "      <td>DarkGray</td>\n",
       "      <td>110</td>\n",
       "      <td>m</td>\n",
       "      <td>0.360040</td>\n",
       "      <td>2016_Aug_16_1429</td>\n",
       "      <td>m</td>\n",
       "      <td>1</td>\n",
       "    </tr>\n",
       "    <tr>\n",
       "      <th>6</th>\n",
       "      <td>3.0</td>\n",
       "      <td>Blue</td>\n",
       "      <td>110</td>\n",
       "      <td>m</td>\n",
       "      <td>0.263624</td>\n",
       "      <td>2016_Aug_16_1429</td>\n",
       "      <td>m</td>\n",
       "      <td>1</td>\n",
       "    </tr>\n",
       "  </tbody>\n",
       "</table>\n",
       "</div>"
      ],
      "text/plain": [
       "   dot_values colour_values  participant response  response_time  \\\n",
       "1         1.0     LightPink          110        m       0.207572   \n",
       "3         6.0        Purple          110        m       0.055839   \n",
       "4         5.0        Orange          110        m       0.015771   \n",
       "5         7.0      DarkGray          110        m       0.360040   \n",
       "6         3.0          Blue          110        m       0.263624   \n",
       "\n",
       "               date correct_response  answered_correctly  \n",
       "1  2016_Aug_16_1429                m                   1  \n",
       "3  2016_Aug_16_1429                m                   1  \n",
       "4  2016_Aug_16_1429                m                   1  \n",
       "5  2016_Aug_16_1429                m                   1  \n",
       "6  2016_Aug_16_1429                m                   1  "
      ]
     },
     "execution_count": 149,
     "metadata": {},
     "output_type": "execute_result"
    }
   ],
   "source": [
    "# Get reaction time for correct responses\n",
    "corr_resp_df = combined_df.loc[ combined_df['response'] == combined_df['correct_response']]\n",
    "corr_resp_df.head()"
   ]
  },
  {
   "cell_type": "code",
   "execution_count": 150,
   "metadata": {
    "collapsed": false
   },
   "outputs": [
    {
     "data": {
      "text/html": [
       "<div>\n",
       "<table border=\"1\" class=\"dataframe\">\n",
       "  <thead>\n",
       "    <tr style=\"text-align: right;\">\n",
       "      <th></th>\n",
       "      <th>participant</th>\n",
       "      <th>corr_resp_rt</th>\n",
       "    </tr>\n",
       "  </thead>\n",
       "  <tbody>\n",
       "    <tr>\n",
       "      <th>0</th>\n",
       "      <td>110</td>\n",
       "      <td>0.231623</td>\n",
       "    </tr>\n",
       "    <tr>\n",
       "      <th>1</th>\n",
       "      <td>111</td>\n",
       "      <td>0.274088</td>\n",
       "    </tr>\n",
       "    <tr>\n",
       "      <th>2</th>\n",
       "      <td>112</td>\n",
       "      <td>0.332942</td>\n",
       "    </tr>\n",
       "    <tr>\n",
       "      <th>3</th>\n",
       "      <td>113</td>\n",
       "      <td>0.300568</td>\n",
       "    </tr>\n",
       "    <tr>\n",
       "      <th>4</th>\n",
       "      <td>114</td>\n",
       "      <td>0.245778</td>\n",
       "    </tr>\n",
       "  </tbody>\n",
       "</table>\n",
       "</div>"
      ],
      "text/plain": [
       "   participant  corr_resp_rt\n",
       "0          110      0.231623\n",
       "1          111      0.274088\n",
       "2          112      0.332942\n",
       "3          113      0.300568\n",
       "4          114      0.245778"
      ]
     },
     "execution_count": 150,
     "metadata": {},
     "output_type": "execute_result"
    }
   ],
   "source": [
    "resp_group_df = corr_resp_df.groupby('participant').mean().reset_index(level=0)[['participant', 'response_time']]\n",
    "resp_group_df = resp_group_df.rename(columns={'response_time':'corr_resp_rt'})\n",
    "resp_group_df.head()"
   ]
  },
  {
   "cell_type": "code",
   "execution_count": 152,
   "metadata": {
    "collapsed": false
   },
   "outputs": [
    {
     "data": {
      "text/html": [
       "<div>\n",
       "<table border=\"1\" class=\"dataframe\">\n",
       "  <thead>\n",
       "    <tr style=\"text-align: right;\">\n",
       "      <th></th>\n",
       "      <th>participant</th>\n",
       "      <th>num_corr</th>\n",
       "      <th>num_mistakes</th>\n",
       "      <th>accuracy</th>\n",
       "      <th>corr_resp_rt</th>\n",
       "    </tr>\n",
       "  </thead>\n",
       "  <tbody>\n",
       "    <tr>\n",
       "      <th>0</th>\n",
       "      <td>110</td>\n",
       "      <td>375</td>\n",
       "      <td>58</td>\n",
       "      <td>0.866051</td>\n",
       "      <td>0.231623</td>\n",
       "    </tr>\n",
       "    <tr>\n",
       "      <th>1</th>\n",
       "      <td>111</td>\n",
       "      <td>395</td>\n",
       "      <td>52</td>\n",
       "      <td>0.883669</td>\n",
       "      <td>0.274088</td>\n",
       "    </tr>\n",
       "    <tr>\n",
       "      <th>2</th>\n",
       "      <td>112</td>\n",
       "      <td>420</td>\n",
       "      <td>29</td>\n",
       "      <td>0.935412</td>\n",
       "      <td>0.332942</td>\n",
       "    </tr>\n",
       "    <tr>\n",
       "      <th>3</th>\n",
       "      <td>113</td>\n",
       "      <td>393</td>\n",
       "      <td>63</td>\n",
       "      <td>0.861842</td>\n",
       "      <td>0.300568</td>\n",
       "    </tr>\n",
       "    <tr>\n",
       "      <th>4</th>\n",
       "      <td>114</td>\n",
       "      <td>394</td>\n",
       "      <td>58</td>\n",
       "      <td>0.871681</td>\n",
       "      <td>0.245778</td>\n",
       "    </tr>\n",
       "    <tr>\n",
       "      <th>5</th>\n",
       "      <td>115</td>\n",
       "      <td>415</td>\n",
       "      <td>35</td>\n",
       "      <td>0.922222</td>\n",
       "      <td>0.329818</td>\n",
       "    </tr>\n",
       "    <tr>\n",
       "      <th>6</th>\n",
       "      <td>116</td>\n",
       "      <td>426</td>\n",
       "      <td>17</td>\n",
       "      <td>0.961625</td>\n",
       "      <td>0.290328</td>\n",
       "    </tr>\n",
       "    <tr>\n",
       "      <th>7</th>\n",
       "      <td>117</td>\n",
       "      <td>443</td>\n",
       "      <td>19</td>\n",
       "      <td>0.958874</td>\n",
       "      <td>0.314148</td>\n",
       "    </tr>\n",
       "    <tr>\n",
       "      <th>8</th>\n",
       "      <td>118</td>\n",
       "      <td>101</td>\n",
       "      <td>346</td>\n",
       "      <td>0.225951</td>\n",
       "      <td>0.330066</td>\n",
       "    </tr>\n",
       "  </tbody>\n",
       "</table>\n",
       "</div>"
      ],
      "text/plain": [
       "   participant  num_corr  num_mistakes  accuracy  corr_resp_rt\n",
       "0          110       375            58  0.866051      0.231623\n",
       "1          111       395            52  0.883669      0.274088\n",
       "2          112       420            29  0.935412      0.332942\n",
       "3          113       393            63  0.861842      0.300568\n",
       "4          114       394            58  0.871681      0.245778\n",
       "5          115       415            35  0.922222      0.329818\n",
       "6          116       426            17  0.961625      0.290328\n",
       "7          117       443            19  0.958874      0.314148\n",
       "8          118       101           346  0.225951      0.330066"
      ]
     },
     "execution_count": 152,
     "metadata": {},
     "output_type": "execute_result"
    }
   ],
   "source": [
    "final_df = pd.merge(df, resp_group_df, on='participant')\n",
    "final_df"
   ]
  },
  {
   "cell_type": "code",
   "execution_count": 170,
   "metadata": {
    "collapsed": false
   },
   "outputs": [
    {
     "data": {
      "text/plain": [
       "0.831925334033014"
      ]
     },
     "execution_count": 170,
     "metadata": {},
     "output_type": "execute_result"
    }
   ],
   "source": [
    "# AVERAGE ACCURACY\n",
    "final_df['accuracy'].mean()"
   ]
  },
  {
   "cell_type": "code",
   "execution_count": 171,
   "metadata": {
    "collapsed": false
   },
   "outputs": [
    {
     "data": {
      "text/plain": [
       "0.29437300621786266"
      ]
     },
     "execution_count": 171,
     "metadata": {},
     "output_type": "execute_result"
    }
   ],
   "source": [
    "# AVERAGE CORRECT RESPONSE RT\n",
    "final_df['corr_resp_rt'].mean()"
   ]
  },
  {
   "cell_type": "code",
   "execution_count": null,
   "metadata": {
    "collapsed": true
   },
   "outputs": [],
   "source": []
  }
 ],
 "metadata": {
  "kernelspec": {
   "display_name": "Python 2",
   "language": "python",
   "name": "python2"
  },
  "language_info": {
   "codemirror_mode": {
    "name": "ipython",
    "version": 2
   },
   "file_extension": ".py",
   "mimetype": "text/x-python",
   "name": "python",
   "nbconvert_exporter": "python",
   "pygments_lexer": "ipython2",
   "version": "2.7.12"
  }
 },
 "nbformat": 4,
 "nbformat_minor": 0
}
